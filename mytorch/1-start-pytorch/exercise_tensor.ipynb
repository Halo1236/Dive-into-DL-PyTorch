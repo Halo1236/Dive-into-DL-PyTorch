{
 "cells": [
  {
   "cell_type": "code",
   "execution_count": 7,
   "metadata": {},
   "outputs": [
    {
     "name": "stdout",
     "output_type": "stream",
     "text": [
      "tensor([[0.5493, 0.9475, 0.8494],\n",
      "        [0.3884, 0.3638, 0.5520],\n",
      "        [0.5746, 0.8004, 0.0243],\n",
      "        [0.9716, 0.7262, 0.9421],\n",
      "        [0.2689, 0.3665, 0.1231]])\n"
     ]
    }
   ],
   "source": [
    "import torch\n",
    "# 创建一个5x3的随机初始化的Tensor\n",
    "x= torch.rand(5,3)\n",
    "print(x)"
   ]
  },
  {
   "cell_type": "code",
   "execution_count": 6,
   "metadata": {},
   "outputs": [
    {
     "name": "stdout",
     "output_type": "stream",
     "text": [
      "tensor([[0, 0, 0, 0, 0],\n",
      "        [0, 0, 0, 0, 0],\n",
      "        [0, 0, 0, 0, 0],\n",
      "        [0, 0, 0, 0, 0],\n",
      "        [0, 0, 0, 0, 0]])\n"
     ]
    }
   ],
   "source": [
    "# x = torch.zeros(5,5,dtype=torch.long)\n",
    "print(x)"
   ]
  },
  {
   "cell_type": "code",
   "execution_count": 14,
   "metadata": {},
   "outputs": [
    {
     "name": "stdout",
     "output_type": "stream",
     "text": [
      "tensor([5.5000, 3.0000])\n",
      "torch.Size([2])\n",
      "torch.Size([2])\n"
     ]
    }
   ],
   "source": [
    "x = torch.tensor([5.5,3])\n",
    "print(x)\n",
    "print(x.size())\n",
    "print(x.shape)"
   ]
  },
  {
   "cell_type": "code",
   "execution_count": 38,
   "metadata": {},
   "outputs": [
    {
     "name": "stdout",
     "output_type": "stream",
     "text": [
      "tensor([[6.5000, 4.0000],\n",
      "        [6.5000, 4.0000],\n",
      "        [6.5000, 4.0000],\n",
      "        [6.5000, 4.0000],\n",
      "        [6.5000, 4.0000]])\n"
     ]
    }
   ],
   "source": [
    "y = torch.ones(5,2)\n",
    "\n",
    "print(torch.add(x,y))"
   ]
  },
  {
   "cell_type": "code",
   "execution_count": 46,
   "metadata": {},
   "outputs": [
    {
     "name": "stdout",
     "output_type": "stream",
     "text": [
      "torch.Size([5, 3]) torch.Size([15]) torch.Size([3, 5])\n"
     ]
    }
   ],
   "source": [
    "# 使用view()来改变tensor的形状\n",
    "x= torch.rand(5,3)\n",
    "y = x.view(15)\n",
    "z = x.view(-1,5)\n",
    "print(x.size(),y.size(),z.size())"
   ]
  },
  {
   "cell_type": "code",
   "execution_count": 50,
   "metadata": {},
   "outputs": [
    {
     "name": "stdout",
     "output_type": "stream",
     "text": [
      "tensor([[4.5255, 4.2676, 4.6972],\n",
      "        [4.0892, 4.5118, 4.6477],\n",
      "        [4.7410, 4.1846, 4.5145],\n",
      "        [4.6359, 4.2657, 4.0469],\n",
      "        [4.8460, 4.5593, 4.2873]])\n",
      "tensor([4.5255, 4.2676, 4.6972, 4.0892, 4.5118, 4.6477, 4.7410, 4.1846, 4.5145,\n",
      "        4.6359, 4.2657, 4.0469, 4.8460, 4.5593, 4.2873])\n"
     ]
    }
   ],
   "source": [
    "# view()返回的新tensor 与源tensor 虽然有size 但是共享data的\n",
    "x +=1\n",
    "print(x)\n",
    "print(y)"
   ]
  },
  {
   "cell_type": "code",
   "execution_count": 119,
   "metadata": {},
   "outputs": [
    {
     "name": "stdout",
     "output_type": "stream",
     "text": [
      "tensor([[0.0930, 0.6679, 0.2801, 0.8255, 0.0232],\n",
      "        [0.2363, 0.4651, 0.3265, 0.4988, 0.2038],\n",
      "        [0.3638, 0.7642, 0.0977, 0.9063, 0.8566],\n",
      "        [0.5530, 0.5119, 0.1694, 0.1437, 0.5428],\n",
      "        [0.1320, 0.4998, 0.7651, 0.2328, 0.8069]])\n",
      "tensor(1.6065)\n",
      "tensor([0.0930, 0.4651, 0.0977, 0.1437, 0.8069])\n",
      "tensor([[0.0930, 0.6679, 0.2801, 0.8255, 0.0232],\n",
      "        [0.0000, 0.4651, 0.3265, 0.4988, 0.2038],\n",
      "        [0.0000, 0.0000, 0.0977, 0.9063, 0.8566],\n",
      "        [0.0000, 0.0000, 0.0000, 0.1437, 0.5428],\n",
      "        [0.0000, 0.0000, 0.0000, 0.0000, 0.8069]])\n",
      "tensor([[0.0930, 0.0000, 0.0000, 0.0000, 0.0000],\n",
      "        [0.2363, 0.4651, 0.0000, 0.0000, 0.0000],\n",
      "        [0.3638, 0.7642, 0.0977, 0.0000, 0.0000],\n",
      "        [0.5530, 0.5119, 0.1694, 0.1437, 0.0000],\n",
      "        [0.1320, 0.4998, 0.7651, 0.2328, 0.8069]])\n"
     ]
    }
   ],
   "source": [
    "# 线性代数\n",
    "x= torch.rand(5,5)\n",
    "# 深拷贝\n",
    "s = x.clone().view(25)\n",
    "print(x)\n",
    "print(x.trace())\n",
    "print(x.diag())\n",
    "print(x.triu())\n",
    "print(x.tril())\n"
   ]
  }
 ],
 "metadata": {
  "kernelspec": {
   "display_name": "Python 3",
   "language": "python",
   "name": "python3"
  },
  "language_info": {
   "codemirror_mode": {
    "name": "ipython",
    "version": 3
   },
   "file_extension": ".py",
   "mimetype": "text/x-python",
   "name": "python",
   "nbconvert_exporter": "python",
   "pygments_lexer": "ipython3",
   "version": "3.6.5"
  }
 },
 "nbformat": 4,
 "nbformat_minor": 4
}
